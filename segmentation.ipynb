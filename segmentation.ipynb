{
 "cells": [
  {
   "cell_type": "code",
   "execution_count": 9,
   "metadata": {},
   "outputs": [],
   "source": [
    "import os\n",
    "import numpy as np\n",
    "import pandas as pd\n",
    "from PIL import Image\n",
    "import nibabel as nib\n",
    "from scipy.ndimage import zoom\n",
    "from glob import glob\n",
    "from tqdm import tqdm"
   ]
  },
  {
   "cell_type": "code",
   "execution_count": 10,
   "metadata": {},
   "outputs": [],
   "source": [
    "# Define paths\n",
    "base_path = 'data'\n",
    "segmentations_path = os.path.join(base_path, 'segmentations')\n",
    "train_images_path1 = os.path.join(base_path, 'sfd', 'train_images')\n",
    "train_images_path2 = os.path.join(base_path, 'train_images')\n",
    "output_path = os.path.join(base_path, 'processed_3d')\n",
    "\n",
    "# Create output directory if it doesn't exist\n",
    "os.makedirs(output_path, exist_ok=True)"
   ]
  },
  {
   "cell_type": "code",
   "execution_count": 11,
   "metadata": {},
   "outputs": [],
   "source": [
    "def load_and_process_image_volume(study_path, target_size=(128, 128, 128)):\n",
    "    # List and sort slice file paths\n",
    "    t_paths = sorted(glob(os.path.join(study_path, \"*\")),\n",
    "                     key=lambda x: int(os.path.basename(x).split('.')[0]))\n",
    "    \n",
    "    # Determine the number of scans and calculate quantile indices\n",
    "    n_scans = len(t_paths)\n",
    "    indices = np.quantile(list(range(n_scans)), np.linspace(0., 1., target_size[2])).round().astype(int)\n",
    "    t_paths = [t_paths[i] for i in indices]\n",
    "    \n",
    "    # Load and process slices\n",
    "    slices = []\n",
    "    for img_path in t_paths:\n",
    "        img = Image.open(img_path)\n",
    "        img = img.resize((target_size[0], target_size[1]))\n",
    "        slices.append(np.array(img))\n",
    "    \n",
    "    # Stack slices into a 3D volume\n",
    "    volume = np.stack(slices, axis=-1)\n",
    "    \n",
    "    # Normalize and scale the volume\n",
    "    volume = volume - np.min(volume)\n",
    "    volume = volume / (np.max(volume) + 1e-4)\n",
    "    volume = (volume * 255).astype(np.uint8)\n",
    "    \n",
    "    return volume\n",
    "\n",
    "def load_and_process_mask(mask_path, target_size=(128, 128, 128), num_classes=7):\n",
    "    # Load the mask using nibabel\n",
    "    mask_org = nib.load(mask_path).get_fdata()\n",
    "\n",
    "    # Adjust mask orientation if needed\n",
    "    mask_org = mask_org.transpose(1, 0, 2)[::-1, :, ::-1]  # Adjust orientation to (d, w, h)\n",
    "\n",
    "    # Resize mask to target size\n",
    "    if mask_org.shape != target_size:\n",
    "        factors = [t / s for t, s in zip(target_size, mask_org.shape)]\n",
    "        mask_org = zoom(mask_org, factors, order=0)  # Nearest-neighbor interpolation for masks\n",
    "\n",
    "    # Create multi-channel mask\n",
    "    mask = np.zeros((num_classes, target_size[0], target_size[1], target_size[2]))\n",
    "    for cid in range(num_classes):\n",
    "        mask[cid] = (mask_org == (cid + 1))\n",
    "\n",
    "    # Convert mask to [0, 255] and return as uint8\n",
    "    mask = mask.astype(np.uint8) * 255\n",
    "\n",
    "    return mask"
   ]
  },
  {
   "cell_type": "code",
   "execution_count": 20,
   "metadata": {},
   "outputs": [
    {
     "name": "stderr",
     "output_type": "stream",
     "text": [
      "Processing studies: 100%|██████████| 87/87 [05:15<00:00,  3.62s/it]"
     ]
    },
    {
     "name": "stdout",
     "output_type": "stream",
     "text": [
      "Processing complete!\n"
     ]
    },
    {
     "name": "stderr",
     "output_type": "stream",
     "text": [
      "\n"
     ]
    }
   ],
   "source": [
    "# Get list of study IDs with segmentations\n",
    "segmentation_ids = [f.split('.')[:-1] for f in os.listdir(segmentations_path) if f.endswith('.nii')]\n",
    "\n",
    "for study_id_parts in tqdm(segmentation_ids, desc=\"Processing studies\"):\n",
    "    study_id = '.'.join(study_id_parts)\n",
    "    # Check for study folder in both locations\n",
    "    study_path = None\n",
    "    if os.path.exists(os.path.join(train_images_path1, study_id)):\n",
    "        study_path = os.path.join(train_images_path1, study_id)\n",
    "    elif os.path.exists(os.path.join(train_images_path2, study_id)):\n",
    "        study_path = os.path.join(train_images_path2, study_id)\n",
    "    \n",
    "    if study_path is None:\n",
    "        print(f\"Warning: No image folder found for study {study_id}\")\n",
    "        continue\n",
    "    \n",
    "    # Process image volume\n",
    "    image_volume = load_and_process_image_volume(study_path)\n",
    "    \n",
    "    # Process mask\n",
    "    mask_path = os.path.join(segmentations_path, f\"{study_id}.nii\")\n",
    "    mask_volume = load_and_process_mask(mask_path)\n",
    "    \n",
    "    # Save processed data\n",
    "    np.save(os.path.join(output_path, f\"{study_id}_image.npy\"), image_volume)\n",
    "    np.save(os.path.join(output_path, f\"{study_id}_mask.npy\"), mask_volume)\n",
    "\n",
    "print(\"Processing complete!\")"
   ]
  },
  {
   "cell_type": "code",
   "execution_count": 13,
   "metadata": {},
   "outputs": [
    {
     "ename": "NameError",
     "evalue": "name 'nn' is not defined",
     "output_type": "error",
     "traceback": [
      "\u001b[1;31m---------------------------------------------------------------------------\u001b[0m",
      "\u001b[1;31mNameError\u001b[0m                                 Traceback (most recent call last)",
      "Cell \u001b[1;32mIn[13], line 1\u001b[0m\n\u001b[1;32m----> 1\u001b[0m \u001b[38;5;28;01mclass\u001b[39;00m \u001b[38;5;21;01mTimmSegModel\u001b[39;00m(\u001b[43mnn\u001b[49m\u001b[38;5;241m.\u001b[39mModule):\n\u001b[0;32m      2\u001b[0m     \u001b[38;5;28;01mdef\u001b[39;00m \u001b[38;5;21m__init__\u001b[39m(\u001b[38;5;28mself\u001b[39m, backbone, segtype\u001b[38;5;241m=\u001b[39m\u001b[38;5;124m'\u001b[39m\u001b[38;5;124munet\u001b[39m\u001b[38;5;124m'\u001b[39m, pretrained\u001b[38;5;241m=\u001b[39m\u001b[38;5;28;01mFalse\u001b[39;00m):\n\u001b[0;32m      3\u001b[0m         \u001b[38;5;28msuper\u001b[39m(TimmSegModel, \u001b[38;5;28mself\u001b[39m)\u001b[38;5;241m.\u001b[39m\u001b[38;5;21m__init__\u001b[39m()\n",
      "\u001b[1;31mNameError\u001b[0m: name 'nn' is not defined"
     ]
    }
   ],
   "source": [
    "class TimmSegModel(nn.Module):\n",
    "    def __init__(self, backbone, segtype='unet', pretrained=False):\n",
    "        super(TimmSegModel, self).__init__()\n",
    "\n",
    "        self.encoder = timm.create_model(\n",
    "            backbone,\n",
    "            in_chans=3,\n",
    "            features_only=True,\n",
    "            drop_rate=drop_rate,\n",
    "            drop_path_rate=drop_path_rate,\n",
    "            pretrained=pretrained\n",
    "        )"
   ]
  }
 ],
 "metadata": {
  "kernelspec": {
   "display_name": "spine",
   "language": "python",
   "name": "python3"
  },
  "language_info": {
   "codemirror_mode": {
    "name": "ipython",
    "version": 3
   },
   "file_extension": ".py",
   "mimetype": "text/x-python",
   "name": "python",
   "nbconvert_exporter": "python",
   "pygments_lexer": "ipython3",
   "version": "3.11.9"
  }
 },
 "nbformat": 4,
 "nbformat_minor": 2
}
